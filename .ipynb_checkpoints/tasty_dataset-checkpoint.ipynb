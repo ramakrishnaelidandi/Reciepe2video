{
 "cells": [
  {
   "cell_type": "code",
   "execution_count": null,
   "metadata": {
    "id": "2A5vzluseYaT"
   },
   "outputs": [],
   "source": [
    "!pip install py7zr\n"
   ]
  },
  {
   "cell_type": "code",
   "execution_count": 3,
   "metadata": {
    "executionInfo": {
     "elapsed": 7568,
     "status": "ok",
     "timestamp": 1695882637308,
     "user": {
      "displayName": "Rama Krishna",
      "userId": "03018056527691422371"
     },
     "user_tz": -330
    },
    "id": "ckuBCljpea6R"
   },
   "outputs": [],
   "source": [
    "import py7zr\n",
    "# Replace with the actual path to your .7z file\n",
    "file_path = '/content/Tasty_Videos_Dataset.7z'\n",
    "with py7zr.SevenZipFile(file_path, mode='r') as archive:\n",
    "    archive.extractall(path='/content/extracted_folder')"
   ]
  },
  {
   "cell_type": "code",
   "execution_count": 20,
   "metadata": {
    "colab": {
     "base_uri": "https://localhost:8080/"
    },
    "executionInfo": {
     "elapsed": 4,
     "status": "ok",
     "timestamp": 1695883026554,
     "user": {
      "displayName": "Rama Krishna",
      "userId": "03018056527691422371"
     },
     "user_tz": -330
    },
    "id": "LfROx8_Zep3X",
    "outputId": "628d87c1-0f43-4237-de81-422dcf6231b6"
   },
   "outputs": [
    {
     "name": "stdout",
     "output_type": "stream",
     "text": [
      "# Tasty Videos Dataset \n",
      "\n",
      "'ALL_RECIPES_without_videos' contains the recipe steps (recipe_encoded.xml), frames per second for the videos (fps.txt) and the annotations (csvalignment.dat) for each recipe in our dataset. \n",
      "\n",
      "'SPLITS' contains our dataset splits. 'split_2511' is the split set used in [1]. 'split_4022' contains the new split set for our extended dataset. \n",
      "\n",
      "'ALL_RECIPES.txt' contains the list of the names of all the recipes in our dataset. \n",
      "\n",
      "We do not directly share the recipe text and videos but encode the recipe text and provide the URLs to download the videos.\n",
      "\n",
      "To decode the recipe text use the following script. \n",
      "python3 fs_decode_xml.py \n",
      "'id2word_tasty.txt' includes the encoding information. \n",
      "\n",
      "If you want to download the videos and extract frames run the following scripts.\n",
      "python3 fs_download_videos.py\n",
      "python3 fs_video2frames.py\n",
      "\n",
      "To process the dataset and create the splits please use the following function:\n",
      "python3 fs_create_splits.py\n",
      "This script reads the recipe text and ingredient information in the 'recipe.xml' files. It also reads the annotation information in 'csvalignment.dat' and relates the recipe steps to the corresponding video frames. \n",
      "\n",
      "[1] Fadime Sener and Angela Yao, Zero-Shot Anticipation for Instructional Activities, The IEEE International Conference on Computer Vision (ICCV), 2019. \n",
      " \n",
      "  \n",
      "\n"
     ]
    }
   ],
   "source": [
    "with open('/content/extracted_folder/README.txt', 'r') as file:\n",
    "    file_contents = file.read()\n",
    "print(file_contents)"
   ]
  },
  {
   "cell_type": "code",
   "execution_count": null,
   "metadata": {
    "id": "n_kVBDpnfVbW"
   },
   "outputs": [],
   "source": []
  }
 ],
 "metadata": {
  "colab": {
   "authorship_tag": "ABX9TyOX/8+QtuLLr3oFpwwNgHrw",
   "provenance": []
  },
  "kernelspec": {
   "display_name": "Python 3",
   "name": "python3"
  },
  "language_info": {
   "name": "python"
  }
 },
 "nbformat": 4,
 "nbformat_minor": 0
}
